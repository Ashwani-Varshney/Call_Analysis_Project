import pandas as pd
import numpy as np
datafile = "311_Service_Requests_2020.csv"
df = pd.read_csv(datafile)
df